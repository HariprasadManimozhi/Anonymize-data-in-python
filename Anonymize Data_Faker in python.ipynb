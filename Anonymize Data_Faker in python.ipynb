{
 "cells": [
  {
   "cell_type": "markdown",
   "metadata": {},
   "source": [
    "# Anonymizing Datasets with Python & Faker"
   ]
  },
  {
   "cell_type": "markdown",
   "metadata": {},
   "source": [
    "## Import libraries"
   ]
  },
  {
   "cell_type": "code",
   "execution_count": 1,
   "metadata": {},
   "outputs": [],
   "source": [
    "import csv\n",
    "#from faker import Faker\n",
    "from faker import Factory\n",
    "from collections import defaultdict\n",
    "\n",
    "import pandas as pd"
   ]
  },
  {
   "cell_type": "code",
   "execution_count": 2,
   "metadata": {},
   "outputs": [],
   "source": [
    "#AVAILABLE_LOCALES\n",
    "from faker.config import AVAILABLE_LOCALES\n",
    "#print(AVAILABLE_LOCALES)"
   ]
  },
  {
   "cell_type": "markdown",
   "metadata": {},
   "source": [
    "## Examples"
   ]
  },
  {
   "cell_type": "code",
   "execution_count": 3,
   "metadata": {},
   "outputs": [
    {
     "name": "stdout",
     "output_type": "stream",
     "text": [
      "Christopher Vaughan\n",
      "Christina Wilson\n",
      "Eric Francis\n",
      "Carlos Nixon\n",
      "John Clark\n",
      "Elizabeth Kramer\n",
      "Hannah Andrews\n",
      "Jeffrey Bass\n",
      "Erik Lucas\n",
      "Janet Miller\n"
     ]
    }
   ],
   "source": [
    "#Local - English\n",
    "from faker import Faker\n",
    "fake = Faker(['en'])\n",
    "for _ in range(10):\n",
    "    print(fake.name())"
   ]
  },
  {
   "cell_type": "code",
   "execution_count": 4,
   "metadata": {},
   "outputs": [
    {
     "name": "stdout",
     "output_type": "stream",
     "text": [
      "உஜாகர்\n",
      "தங்கச்சுடர் யாழிசை\n",
      "உதயகுமார்;\n",
      "ஏந்திழை\n",
      "மகிணன் பவளக்கொடி\n",
      "ரித்திகா இசைவளன்\n",
      "மணியம்மை\n",
      "ஹாருண் பகுமித்ரன்\n",
      "ரமேஷ்கண்ணா ரமேஷ்கண்ணா\n",
      "யஷ்வினி இந்துவதனி\n"
     ]
    }
   ],
   "source": [
    "#Local - India | Language - Tamil\n",
    "from faker import Faker\n",
    "fake = Faker(['ta_IN'])\n",
    "for _ in range(10):\n",
    "    print(fake.name())"
   ]
  },
  {
   "cell_type": "markdown",
   "metadata": {},
   "source": [
    "## Define file path"
   ]
  },
  {
   "cell_type": "code",
   "execution_count": 5,
   "metadata": {},
   "outputs": [],
   "source": [
    "source = 'C:\\\\Users\\\\My files\\\\Anonymized_data\\\\source.csv'"
   ]
  },
  {
   "cell_type": "code",
   "execution_count": 6,
   "metadata": {},
   "outputs": [],
   "source": [
    "target = 'C:\\\\Users\\\\My files\\\\Anonymized_data\\\\target.csv'"
   ]
  },
  {
   "cell_type": "markdown",
   "metadata": {},
   "source": [
    "## Create functions to anonymize"
   ]
  },
  {
   "cell_type": "markdown",
   "metadata": {},
   "source": [
    "Anonymize names of three columns"
   ]
  },
  {
   "cell_type": "code",
   "execution_count": 7,
   "metadata": {},
   "outputs": [],
   "source": [
    "def anonymize_rows(rows):\n",
    "    \"\"\"\n",
    "    Rows is an iterable of dictionaries that contain name and\n",
    "    email fields that need to be anonymized.\n",
    "    \"\"\"\n",
    "    # Load the faker and its providers\n",
    "    faker  = Factory.create('en')    # Create mappings of names & emails to faked names & emails.\n",
    "    names  = defaultdict(faker.name)\n",
    "    # Iterate over the rows and yield anonymized rows.\n",
    "    for row in rows:\n",
    "        # Replace the name and email fields with faked fields.\n",
    "        row['ZM']  = names[row['ZM']]\n",
    "        row['AM'] = names[row['AM']]        # Yield the row back to the caller\n",
    "        row['TSO']  = names[row['TSO']]\n",
    "        row['SMName']  = names[row['SMName']]\n",
    "        yield row"
   ]
  },
  {
   "cell_type": "code",
   "execution_count": 8,
   "metadata": {},
   "outputs": [],
   "source": [
    "def anonymize(source, target):\n",
    "    \"\"\"\n",
    "    The source argument is a path to a CSV file containing data to anonymize,\n",
    "    while target is a path to write the anonymized CSV data to.\n",
    "    \"\"\"\n",
    "    with open(source, 'r') as f:\n",
    "        with open(target, 'w') as o:\n",
    "            # Use the DictReader to easily extract fields\n",
    "            reader = csv.DictReader(f)\n",
    "            writer = csv.DictWriter(o, reader.fieldnames)            \n",
    "            # Read and anonymize data, writing to target file.\n",
    "            for row in anonymize_rows(reader):\n",
    "                writer.writerow(row)"
   ]
  },
  {
   "cell_type": "code",
   "execution_count": 9,
   "metadata": {},
   "outputs": [],
   "source": [
    "#Function call\n",
    "anonymize(source, target)"
   ]
  },
  {
   "cell_type": "markdown",
   "metadata": {},
   "source": [
    "* The target file has undesired empty rows. \n",
    "* To remove those, Convert to pandas dataframe & save as csv"
   ]
  },
  {
   "cell_type": "code",
   "execution_count": 10,
   "metadata": {},
   "outputs": [],
   "source": [
    "#Read csv to dataframe\n",
    "a = pd.read_csv('test.csv')"
   ]
  },
  {
   "cell_type": "code",
   "execution_count": 11,
   "metadata": {},
   "outputs": [],
   "source": [
    "#Save as csv\n",
    "a.to_csv('target.csv')"
   ]
  }
 ],
 "metadata": {
  "kernelspec": {
   "display_name": "Python 3",
   "language": "python",
   "name": "python3"
  },
  "language_info": {
   "codemirror_mode": {
    "name": "ipython",
    "version": 3
   },
   "file_extension": ".py",
   "mimetype": "text/x-python",
   "name": "python",
   "nbconvert_exporter": "python",
   "pygments_lexer": "ipython3",
   "version": "3.8.1"
  }
 },
 "nbformat": 4,
 "nbformat_minor": 4
}
